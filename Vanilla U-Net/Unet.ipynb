{
 "cells": [
  {
   "cell_type": "code",
   "execution_count": 1,
   "metadata": {},
   "outputs": [
    {
     "name": "stderr",
     "output_type": "stream",
     "text": [
      "Using TensorFlow backend.\n"
     ]
    }
   ],
   "source": [
    "import os\n",
    "import sys\n",
    "import random\n",
    "import warnings\n",
    "\n",
    "import numpy as np\n",
    "import pandas as pd\n",
    "\n",
    "import matplotlib.pyplot as plt\n",
    "\n",
    "from tqdm import tqdm\n",
    "from itertools import chain\n",
    "from skimage.io import imread, imshow, imread_collection, concatenate_images\n",
    "from skimage.transform import resize\n",
    "from skimage.morphology import label\n",
    "\n",
    "import tensorflow as tf\n",
    "\n",
    "\n",
    "\n",
    "\n",
    "from keras.models import Model, load_model\n",
    "from keras.layers import Input\n",
    "from keras.layers.core import Lambda\n",
    "from keras.layers.convolutional import Conv2D, Conv2DTranspose\n",
    "from keras.layers.pooling import MaxPooling2D\n",
    "from keras.layers.merge import concatenate\n",
    "from keras.callbacks import EarlyStopping, ModelCheckpoint\n",
    "from keras import backend as K\n",
    "from keras import optimizers\n",
    "\n",
    "# from utils import *\n",
    "\n",
    "from os.path import join as pjoin\n",
    "import matplotlib as mpl\n",
    "import glob\n",
    "%matplotlib inline\n",
    "%load_ext autoreload\n",
    "%autoreload 2\n",
    "\n",
    "# Set some parameters\n",
    "IMG_WIDTH = 64\n",
    "IMG_HEIGHT = 64\n",
    "IMG_CHANNELS = 3\n",
    "# TRAIN_PATH = 'input/stage1_train/'\n",
    "# TEST_PATH = 'input/stage1_test/'\n",
    "\n",
    "warnings.filterwarnings('ignore', category=UserWarning, module='skimage')\n",
    "warnings.filterwarnings('ignore', category=UserWarning, module='numpy')\n",
    "seed = 42\n",
    "random.seed = seed\n",
    "np.random.seed = seed"
   ]
  },
  {
   "cell_type": "code",
   "execution_count": 106,
   "metadata": {},
   "outputs": [],
   "source": [
    "%reload_ext autoreload\n",
    "%autoreload 2 \n",
    "from utils import *"
   ]
  },
  {
   "cell_type": "markdown",
   "metadata": {},
   "source": [
    "### Preprocess train images"
   ]
  },
  {
   "cell_type": "markdown",
   "metadata": {},
   "source": [
    "### Load dataset"
   ]
  },
  {
   "cell_type": "code",
   "execution_count": 2,
   "metadata": {},
   "outputs": [
    {
     "name": "stdout",
     "output_type": "stream",
     "text": [
      "C:\\Users\\chladek\\Documents\\UCU DSS\\Project\n",
      "C:\\Users\\chladek\\Documents\\UCU DSS\\Project\\data\\TissueTraining\n"
     ]
    }
   ],
   "source": [
    "ROOT_DIR = os.getcwd()\n",
    "print(ROOT_DIR)\n",
    " \n",
    "DATA_DIR = pjoin(ROOT_DIR, 'data\\TissueTraining')\n",
    "print(DATA_DIR)"
   ]
  },
  {
   "cell_type": "code",
   "execution_count": 3,
   "metadata": {},
   "outputs": [],
   "source": [
    "# Get data\n",
    "img_files = {}\n",
    "mask_files = {}\n",
    "cover_files = {}\n",
    "\n",
    "img_files['all'] = sorted(glob.glob(pjoin(DATA_DIR, 'OverviewBF*.png')))\n",
    "mask_files['all'] = sorted(glob.glob(pjoin(DATA_DIR, 'SampleMask*.png')))\n",
    "cover_files['all'] = sorted(glob.glob(pjoin(DATA_DIR, 'CoverslipMask*.png')))\n",
    "\n",
    "train_ids = [580, 8, 4, 1, 39, 9, 12, 17, 2, 617, 568, 588, 159, 20, 13, 750, 3, 14, 22, 567, 10, 7, 21, 15, 11, 566,6]\n",
    "val_ids = [18, 749, 16, 19, 519, 379, 5, 248]\n",
    "\n",
    "img_files['train'] = [file for file in img_files['all'] if int(file[-8:-5]) in train_ids]\n",
    "mask_files['train'] = [file for file in mask_files['all'] if int(file[-8:-5]) in train_ids]\n",
    "cover_files['train'] = [file for file in cover_files['all'] if int(file[-8:-5]) in train_ids]\n",
    "\n",
    "img_files['val'] = [file for file in img_files['all'] if int(file[-8:-5]) in val_ids]\n",
    "mask_files['val'] = [file for file in mask_files['all'] if int(file[-8:-5]) in val_ids]\n",
    "cover_files['val'] = [file for file in cover_files['all'] if int(file[-8:-5]) in val_ids]\n",
    "\n",
    "TRAIN_SIZE = len(img_files['train'])\n",
    "VAL_SIZE = len(img_files['val'])"
   ]
  },
  {
   "cell_type": "code",
   "execution_count": null,
   "metadata": {},
   "outputs": [],
   "source": [
    "mpl.rcParams[\"figure.figsize\"] = (10, 10)\n",
    "PAD_SIZE = (0, 0)\n",
    "\n",
    "covers_path = pjoin(DATA_DIR, 'covers')\n",
    "if not os.path.exists(covers_path):\n",
    "    os.mkdir(covers_path)\n",
    "\n",
    "Img_files = {}\n",
    "Mask_files = {}\n",
    "for data_mode in ['train', 'val']:\n",
    "    print('{} SET:'.format(data_mode.upper()))\n",
    "    Img_files[data_mode] = []\n",
    "    Mask_files[data_mode] = []\n",
    "    \n",
    "    for i, (img_file, cover_file, mask_file) in \\\n",
    "                enumerate(zip(img_files[data_mode],\n",
    "                              cover_files[data_mode],\n",
    "                              mask_files[data_mode])):\n",
    "\n",
    "        img = imread(img_file)\n",
    "        cover = imread(cover_file)\n",
    "        mask = imread(mask_file)\n",
    "        \n",
    "        new_img = get_cover(img, cover, PAD_SIZE)\n",
    "        new_mask = get_cover(mask, cover, PAD_SIZE)\n",
    "        new_mask[new_mask>1] = 1\n",
    "        \n",
    "        Img_file = pjoin(covers_path, 'IMG{}'.format(cover_file[-10:]))\n",
    "        Mask_file = pjoin(covers_path, 'MASK{}'.format(cover_file[-10:]))\n",
    "        imsave(Img_file, new_img)\n",
    "        imsave(Mask_file, new_mask)\n",
    "        Img_files[data_mode].append(Img_file)\n",
    "        Mask_files[data_mode].append(Mask_file)\n",
    "        \n",
    "    print('\\n'.join(Img_files[data_mode]))\n",
    "    print('\\n'.join(Mask_files[data_mode]))"
   ]
  },
  {
   "cell_type": "markdown",
   "metadata": {},
   "source": [
    "#### Generate patches"
   ]
  },
  {
   "cell_type": "code",
   "execution_count": null,
   "metadata": {},
   "outputs": [],
   "source": [
    "# ls data/patches/001/\n",
    "# from utils import *\n",
    "\n",
    "from albumentations import (RandomRotate90, GaussNoise, ElasticTransform, ChannelShuffle, \n",
    "                            Flip, IAAAdditiveGaussianNoise, OneOf)"
   ]
  },
  {
   "cell_type": "code",
   "execution_count": null,
   "metadata": {},
   "outputs": [],
   "source": [
    "# aug = Flip(p=1)(**data,d=np.random.randint(2))\n",
    "# patch_1, mask_1 = aug(image=)"
   ]
  },
  {
   "cell_type": "code",
   "execution_count": null,
   "metadata": {},
   "outputs": [],
   "source": [
    "def create_augm(patch, mask, path_patch, path_mask):\n",
    "    data = {'image':patch, 'mask':mask}\n",
    "    \n",
    "    aug = Flip(p=1)(**data,d=np.random.randint(2))\n",
    "    patch_1, mask_1 = aug['image'], aug['mask']\n",
    "    \n",
    "    aug = RandomRotate90(p=1)(**data,factor=np.random.randint(3)+1)\n",
    "    patch_2, mask_2 = aug['image'], aug['mask']\n",
    "    \n",
    "    aug = ChannelShuffle(p=1)(**data) # image\n",
    "    patch_3, mask_3 = aug['image'], mask\n",
    "    \n",
    "    aug = ElasticTransform(p=1)(**data)\n",
    "    patch_4, mask_4 = aug['image'], aug['mask']\n",
    "    \n",
    "    aug = Gauss_aug()(**data) # image\n",
    "    patch_5, mask_5 = aug['image'], mask\n",
    "    \n",
    "    \n",
    "    for counter,file in enumerate([patch, patch_1,patch_2,patch_3,patch_4,patch_5]):\n",
    "        imsave(path_patch + str(counter) +  '.png', file)\n",
    "    for counter,file in enumerate([mask, mask_1, mask_2, mask_3, mask_4, mask_5]):\n",
    "        imsave(path_mask + str(counter) + '.png', file)\n",
    "#         imsave(newpath + '\\PATCH_'+ str(patch_number) + '_' + str(counter) + '.png' ,file)\n",
    "\n",
    "def Gauss_aug(p=1,scale=0.025*255,var_limit=(10, 50)):\n",
    "    return OneOf([\n",
    "            IAAAdditiveGaussianNoise(p=p,scale=scale),\n",
    "            GaussNoise(p=p,var_limit=var_limit),\n",
    "        ], p=p)"
   ]
  },
  {
   "cell_type": "code",
   "execution_count": null,
   "metadata": {},
   "outputs": [],
   "source": [
    "PATCHES = 3000\n",
    "for img_file, mask_file in zip(Img_files['train'],\n",
    "                                   Mask_files['train']):\n",
    "        folder_name = img_file.split('_')[-2]\n",
    "        if not os.path.exists('data/patches/{0}'.format(folder_name)):\n",
    "            os.makedirs('data/patches/{0}'.format(folder_name))\n",
    "        img, mask = imread(img_file), imread(mask_file)\n",
    "        coords = get_coord(img.shape[0], img.shape[1], PATCHES)\n",
    "        bbxs = coord_to_bbx(coords, img)\n",
    "        patches = get_patches(img, mask, bbxs)\n",
    "        for id_, patch_n_mask in tqdm(enumerate(patches)):\n",
    "            patch, mask_patch = patch_n_mask\n",
    "            imsave('data/patches/{}/PATCH_{}.png'.format(folder_name, id_), patch)\n",
    "            imsave('data/patches/{}/MASK_{}.png'.format(folder_name, id_), mask_patch)\n",
    "            create_augm(patch,\n",
    "                        mask_patch, \n",
    "                        'data/patches/{}/PATCH_{}_'.format(folder_name, id_),\n",
    "                        'data/patches/{}/MASK_{}_'.format(folder_name, id_))\n",
    "        print('Created patches for {} tissue'.format(folder_name, id_))\n",
    "\n",
    "print('Done!')"
   ]
  },
  {
   "cell_type": "markdown",
   "metadata": {},
   "source": [
    "#### Load patches "
   ]
  },
  {
   "cell_type": "code",
   "execution_count": null,
   "metadata": {
    "scrolled": true
   },
   "outputs": [],
   "source": [
    "def read_tissue(path):\n",
    "    \"Reading of patches of one image\"\n",
    "    files = sorted(os.listdir(path))\n",
    "    masks, patches = files[:int(len(files) / 2)], files[int(len(files) / 2):]\n",
    "    return ([imread(os.path.join(path, patch)) for patch in patches],\n",
    "            [np.expand_dims(imread(os.path.join(path, mask), as_gray=True)*255, axis=2) for mask in masks])\n",
    "\n",
    "def read_dataset():\n",
    "    \"Reading all dataset\"\n",
    "    X, y = [], []\n",
    "    for tissue in os.listdir('data/patches/'):\n",
    "        patches, masks = read_tissue(os.path.join('data/patches/', tissue))\n",
    "        X, y = X + patches, y + masks\n",
    "    return np.asarray(X), np.asarray(y)\n",
    "\n",
    "X_train, Y_train = read_dataset()"
   ]
  },
  {
   "cell_type": "code",
   "execution_count": 8,
   "metadata": {},
   "outputs": [],
   "source": [
    "from keras import metrics as keras_metrics\n",
    "\n",
    "def as_keras_metric(method):\n",
    "    import functools\n",
    "    from keras import backend as K\n",
    "    import tensorflow as tf\n",
    "    @functools.wraps(method)\n",
    "    def wrapper(self, args, **kwargs):\n",
    "        \"\"\" Wrapper for turning tensorflow metrics into keras metrics \"\"\"\n",
    "        value, update_op = method(self, args, **kwargs)\n",
    "        K.get_session().run(tf.local_variables_initializer())\n",
    "        with tf.control_dependencies([update_op]):\n",
    "            value = tf.identity(value)\n",
    "        return value\n",
    "    return wrapper\n",
    "\n",
    "@as_keras_metric\n",
    "def auc_pr(y_true, y_pred, curve='PR'):\n",
    "    return tf.metrics.auc(y_true, y_pred, curve=curve)"
   ]
  },
  {
   "cell_type": "markdown",
   "metadata": {},
   "source": [
    "### Test images"
   ]
  },
  {
   "cell_type": "code",
   "execution_count": 9,
   "metadata": {
    "code_folding": []
   },
   "outputs": [],
   "source": [
    "from skimage.io import imread, imshow, imread_collection, concatenate_images\n"
   ]
  },
  {
   "cell_type": "code",
   "execution_count": 10,
   "metadata": {},
   "outputs": [],
   "source": [
    "def print_nuclei_bg_acc(gt, pred):\n",
    "    \"\"\"Print overall, nuclei, and background accuracies\"\"\"   \n",
    "    tp = np.sum(1*np.logical_and(gt, pred)) #TP\n",
    "    tn = np.sum(1*np.logical_and(np.logical_not(gt), np.logical_not(pred))) #FP\n",
    "    fp = np.sum(1*np.logical_and(np.logical_not(gt), pred)) #FP\n",
    "    fn = np.sum(1*np.logical_and(gt, np.logical_not(pred))) #FP\n",
    "    \n",
    "    accuracy = (tp+tn)/(tp+tn+fp+fn)\n",
    "    recall = tp/(tp+fn)\n",
    "    precision = tp/(tp+fp)\n",
    "    specificity = tn/(tn+fp)    \n",
    "    print(\"accuracy: %s, recall: %s, precision: %s, specificity: %s\" % (accuracy, recall, precision, specificity))"
   ]
  },
  {
   "cell_type": "code",
   "execution_count": 11,
   "metadata": {},
   "outputs": [],
   "source": [
    "def get_cords_patch(img):\n",
    "    coords = []\n",
    "    for x in range(0, img.shape[1], 64):\n",
    "         for y in range(0, img.shape[0], 64):\n",
    "                coords.append([x, y])\n",
    "    return coords\n",
    "\n",
    "\n",
    "#coords_res = get_cords_patch(res)\n",
    "# print(coords_res)\n",
    "#bbxs = coord_to_bbx(coords_res, res)\n",
    "\n",
    "# imshow(bbxs.draw_on_image(res, thickness=2, color=[0, 0, 255]))\n",
    "#t = get_patches(res, res_mask, bbxs)"
   ]
  },
  {
   "cell_type": "markdown",
   "metadata": {},
   "source": [
    "# Test of Evaluation pipeline"
   ]
  },
  {
   "cell_type": "code",
   "execution_count": 12,
   "metadata": {},
   "outputs": [],
   "source": [
    "# Loading all test images and masks\n",
    "X_test = []\n",
    "Y_test = []\n",
    "for x,y in zip(Img_files['val'],Mask_files['val']):\n",
    "    X_test.append(imread(x))\n",
    "    Y_test.append(np.expand_dims(imread(y, as_gray=True), axis=2))\n",
    "\n",
    "X_test = np.asarray(X_test)\n",
    "Y_test = np.asarray(Y_test)"
   ]
  },
  {
   "cell_type": "code",
   "execution_count": 71,
   "metadata": {},
   "outputs": [],
   "source": [
    "img = X_test[1]"
   ]
  },
  {
   "cell_type": "code",
   "execution_count": null,
   "metadata": {},
   "outputs": [],
   "source": [
    "imshow(img)"
   ]
  },
  {
   "cell_type": "code",
   "execution_count": 31,
   "metadata": {},
   "outputs": [],
   "source": [
    "height = img.shape[0]\n",
    "width = img.shape[1]\n",
    "shape = 64\n",
    "###\n",
    "add_height = shape*(int(height/shape) + int((height % shape)>0))-height\n",
    "add_width = shape*(int(width/shape) + int((width % shape)>0))-width"
   ]
  },
  {
   "cell_type": "code",
   "execution_count": 32,
   "metadata": {},
   "outputs": [],
   "source": [
    "### Add borders\n",
    "#https://docs.opencv.org/3.1.0/d3/df2/tutorial_py_basic_ops.html\n",
    "BLUE = [0,0,0]\n",
    "constant=cv2.copyMakeBorder(img,0,add_height,0,add_width,cv2.BORDER_CONSTANT,value=BLUE)"
   ]
  },
  {
   "cell_type": "code",
   "execution_count": 33,
   "metadata": {},
   "outputs": [
    {
     "name": "stdout",
     "output_type": "stream",
     "text": [
      "(98, 64, 64, 3)\n",
      "(98, 64, 64, 1, 3)\n"
     ]
    }
   ],
   "source": [
    "### Create patches\n",
    "coords_res = get_cords_patch(constant)\n",
    "# print(coords_res)\n",
    "bbxs = coord_to_bbx(coords_res, constant)\n",
    "\n",
    "# imshow(bbxs.draw_on_image(res, thickness=2, color=[0, 0, 255]))\n",
    "t = get_patches(constant,constant, bbxs)\n",
    "\n",
    "Test = []\n",
    "Mask = []\n",
    "\n",
    "for pair in t:\n",
    "    Test.append(pair[0])\n",
    "    Mask.append(np.expand_dims(pair[1], axis=2))\n",
    "\n",
    "Test = np.asarray(Test)\n",
    "Mask = np.asarray(Mask)\n",
    "print(Test.shape)\n",
    "print(Mask.shape)"
   ]
  },
  {
   "cell_type": "code",
   "execution_count": 34,
   "metadata": {},
   "outputs": [],
   "source": [
    "### Predictions for all patches\n",
    "showup = (model.predict(Test)>0.5).astype(np.uint8)"
   ]
  },
  {
   "cell_type": "code",
   "execution_count": 77,
   "metadata": {},
   "outputs": [],
   "source": [
    "showup = model.predict(Test)"
   ]
  },
  {
   "cell_type": "code",
   "execution_count": null,
   "metadata": {
    "scrolled": true
   },
   "outputs": [],
   "source": [
    "### Merging predicted patches to image\n",
    "im  = '\\\\Predictions\\\\0\\\\'\n",
    "\n",
    "full_height = add_height + height\n",
    "full_width = add_width + width\n",
    "new_img = np.zeros(shape=(full_height, full_width, 1))\n",
    "col = 0\n",
    "j=0\n",
    "\n",
    "for i in range(len(Test)):\n",
    "    j = i % int(full_height/shape)\n",
    "    col += ((i % int(full_height/shape))==0 and i!=0)\n",
    "    \n",
    "    new_img[j*shape:(j+1)*shape,col*shape:(col+1)*shape,:] = showup[i]\n",
    "    print(i)\n",
    "    #imshow(np.squeeze(new_img.astype(int)))\n",
    "    #plt.show()\n",
    "\n",
    "final_img = (new_img[:height, :width,:])#.astype(int)    "
   ]
  },
  {
   "cell_type": "code",
   "execution_count": 92,
   "metadata": {},
   "outputs": [],
   "source": [
    "def IoU(mask_gt, mask_pred):\n",
    "    return (mask_gt * mask_pred).sum() / (np.maximum(mask_gt, mask_pred)).sum() * 100 \n",
    "\n",
    "def Precision(mask_gt, mask_pred):\n",
    "    return (mask_gt * mask_pred).sum() / mask_pred.sum() * 100 \n",
    "\n",
    "def Recall(mask_gt, mask_pred):\n",
    "    return (mask_gt * mask_pred).sum() / mask_gt.sum() * 100 "
   ]
  },
  {
   "cell_type": "code",
   "execution_count": null,
   "metadata": {},
   "outputs": [],
   "source": [
    "mask_array = np.squeeze(final_img)\n",
    "plt.subplot(1,3,1)\n",
    "imshow(img)\n",
    "plt.subplot(1,3,2)\n",
    "imshow(mask_array)\n",
    "\n",
    "#mask_array = crop_image(mask_array, pads)\n",
    "#image = crop_image(img, pads)\n",
    "mask_pred = (mask_array > 0.5).astype(np.uint8)\n",
    "plt.subplot(1,3,3)\n",
    "imshow(mask_overlay(img, mask_pred))\n",
    "plt.show()\n",
    "\n",
    "iou = IoU(np.squeeze(true), mask_pred)\n",
    "#ious.append(iou)\n",
    "print('IoU: {:.2f}%'.format(iou))\n",
    "precision = Precision(np.squeeze(true), mask_pred)\n",
    "#precisions.append(precision)\n",
    "print('Precision: {:.2f}%'.format(precision))\n",
    "recall = Recall(np.squeeze(true), mask_pred)\n",
    "#recalls.append(recall)\n",
    "print('Recall: {:.2f}%'.format(recall))"
   ]
  },
  {
   "cell_type": "code",
   "execution_count": null,
   "metadata": {
    "scrolled": false
   },
   "outputs": [],
   "source": [
    "pred_final = []\n",
    "true_final = []\n",
    "mpl.rcParams['figure.figsize'] = (20, 20)\n",
    "\n",
    "ious = []\n",
    "precisions = []\n",
    "recalls = []\n",
    "\n",
    "for x in range(len(X_test)):\n",
    "    #print('Test image ',x)\n",
    "    img = X_test[x]\n",
    "    #######################\n",
    "    height = img.shape[0]\n",
    "    width = img.shape[1]\n",
    "    shape = 64\n",
    "    #\n",
    "    add_height = shape*(int(height/shape) + int((height % shape)>0))-height\n",
    "    add_width = shape*(int(width/shape) + int((width % shape)>0))-width\n",
    "    \n",
    "    ######################\n",
    "    BLUE = [0,0,0]\n",
    "    constant=cv2.copyMakeBorder(img,0,add_height,0,add_width,cv2.BORDER_CONSTANT,value=BLUE)\n",
    "    #imshow(constant)\n",
    "    \n",
    "    ######################\n",
    "    \n",
    "    coords_res = get_cords_patch(constant)\n",
    "    # print(coords_res)\n",
    "    bbxs = coord_to_bbx(coords_res, constant)\n",
    "\n",
    "    # imshow(bbxs.draw_on_image(res, thickness=2, color=[0, 0, 255]))\n",
    "    t = get_patches(constant,constant, bbxs)\n",
    "\n",
    "    Test = []\n",
    "    #Mask = []\n",
    "\n",
    "    for pair in t:\n",
    "        Test.append(pair[0])\n",
    "        #Mask.append(np.expand_dims(pair[1], axis=2))\n",
    "\n",
    "    Test = np.asarray(Test)\n",
    "    #Mask = np.asarray(Mask)\n",
    "    #print(Test.shape)\n",
    "    #print(Mask.shape)\n",
    "    \n",
    "    ########################################\n",
    "    \n",
    "    showup = model.predict(Test)\n",
    "    \n",
    "    ### Merging predicted patches to image\n",
    "\n",
    "    full_height = add_height + height\n",
    "    full_width = add_width + width\n",
    "    new_img = np.zeros(shape=(full_height, full_width, 1))\n",
    "    col = 0\n",
    "    j=0\n",
    "    i=0\n",
    "    for i in range(len(Test)):\n",
    "        j = i % int(full_height/shape)\n",
    "        col += ((i % int(full_height/shape))==0 and i!=0)\n",
    "\n",
    "        new_img[j*shape:(j+1)*shape,col*shape:(col+1)*shape,:] = showup[i]\n",
    "        #print(i)\n",
    "        #imshow(np.squeeze(new_img.astype(int)))\n",
    "        #plt.show()\n",
    "\n",
    "    final_img = (new_img[:height, :width,:])#.astype(int)\n",
    "    \n",
    "    #########################################\n",
    "    preds = final_img\n",
    "    true = (Y_test[x]>0).astype(np.uint8)\n",
    "    #print_nuclei_bg_acc(true,preds)\n",
    "    \n",
    "    # Plot stuff\n",
    "    #f, (ax1, ax2,ax3) = plt.subplots(1, 3, sharey=True)\n",
    "    #f, (ax1, ax2) = plt.subplots(1, 2, sharey=True)\n",
    "    #ax1.imshow(X_test[x])\n",
    "    #ax2.imshow(np.squeeze(final_img))\n",
    "    #ax3.imshow(np.squeeze(Y_test[x]))\n",
    "    #ax1.set_title('Test image')\n",
    "    #ax2.set_title('Predicted image')\n",
    "    #ax3.set_title('Mask')\n",
    "    #plt.show()\n",
    "    \n",
    "    \n",
    "    #pred_final = np.append(pred_final,preds.ravel())\n",
    "    #true_final = np.append(true_final,true.ravel())\n",
    "    #print('Cummulative performance until',x)\n",
    "    #print_nuclei_bg_acc(true_final,pred_final)\n",
    "    \n",
    "    #############################################\n",
    "    ### Stuff from Yaroslava train\n",
    "    mask_array = np.squeeze(final_img)\n",
    "    plt.subplot(1,3,1)\n",
    "    imshow(img)\n",
    "    plt.subplot(1,3,2)\n",
    "    imshow(mask_array)\n",
    "\n",
    "    #mask_array = crop_image(mask_array, pads)\n",
    "    #image = crop_image(img, pads)\n",
    "    mask_pred = (mask_array > 0.5).astype(np.uint8)\n",
    "    plt.subplot(1,3,3)\n",
    "    imshow(mask_overlay(img, mask_pred))\n",
    "    plt.show()\n",
    "\n",
    "    iou = IoU(np.squeeze(true), mask_pred)\n",
    "    ious.append(iou)\n",
    "    print('IoU: {:.2f}%'.format(iou))\n",
    "    precision = Precision(np.squeeze(true), mask_pred)\n",
    "    precisions.append(precision)\n",
    "    print('Precision: {:.2f}%'.format(precision))\n",
    "    recall = Recall(np.squeeze(true), mask_pred)\n",
    "    recalls.append(recall)\n",
    "    print('Recall: {:.2f}%'.format(recall))\n",
    "    "
   ]
  },
  {
   "cell_type": "code",
   "execution_count": 125,
   "metadata": {},
   "outputs": [
    {
     "name": "stdout",
     "output_type": "stream",
     "text": [
      "\tMean IoU: 0.881\n",
      "\tMean precision: 0.942\n",
      "\tMean recall: 0.930\n"
     ]
    }
   ],
   "source": [
    "Ious = np.array(ious) / 100\n",
    "Precisions = np.array(precisions) / 100\n",
    "Recalls = np.array(recalls) / 100\n",
    "print('\\tMean IoU: {:.3f}\\n\\tMean precision: {:.3f}\\n\\tMean recall: {:.3f}'.format(Ious.mean(), Precisions.mean(), Recalls.mean()))"
   ]
  },
  {
   "cell_type": "code",
   "execution_count": 126,
   "metadata": {},
   "outputs": [
    {
     "name": "stdout",
     "output_type": "stream",
     "text": [
      "\tMean IoU: 0.881\n"
     ]
    },
    {
     "data": {
      "image/png": "[encoded data removed]",
      "text/plain": [
       "<Figure size 576x144 with 1 Axes>"
      ]
     },
     "metadata": {},
     "output_type": "display_data"
    },
    {
     "name": "stdout",
     "output_type": "stream",
     "text": [
      "\tMean precision: 0.942\n"
     ]
    },
    {
     "data": {
      "image/png": "[encoded data removed]",
      "text/plain": [
       "<Figure size 576x144 with 1 Axes>"
      ]
     },
     "metadata": {},
     "output_type": "display_data"
    },
    {
     "name": "stdout",
     "output_type": "stream",
     "text": [
      "\tMean recall: 0.930\n"
     ]
    },
    {
     "data": {
      "image/png": "[encoded data removed]",
      "text/plain": [
       "<Figure size 576x144 with 1 Axes>"
      ]
     },
     "metadata": {},
     "output_type": "display_data"
    }
   ],
   "source": [
    "plt.style.use('ggplot')\n",
    "mpl.rcParams[\"figure.figsize\"] = (8, 2)\n",
    "plot_ratio(Ious, 'IoU on val dataset', ['IoU', ''])\n",
    "print('\\tMean IoU: {:.3f}'.format(Ious.mean(), Precisions.mean(), Recalls.mean()))\n",
    "plt.show()\n",
    "plot_ratio(Precisions, 'Precision on val dataset', ['Precision', ''])\n",
    "print('\\tMean precision: {:.3f}'.format(Precisions.mean(), Recalls.mean()))\n",
    "plt.show()\n",
    "plot_ratio(Recalls, 'Recall on val dataset', ['Recall', ''])\n",
    "print('\\tMean recall: {:.3f}'.format(Recalls.mean()))\n",
    "plt.show()"
   ]
  },
  {
   "cell_type": "markdown",
   "metadata": {},
   "source": [
    "## U-net"
   ]
  },
  {
   "cell_type": "code",
   "execution_count": 123,
   "metadata": {
    "scrolled": true
   },
   "outputs": [
    {
     "name": "stdout",
     "output_type": "stream",
     "text": [
      "WARNING:tensorflow:Trapezoidal rule is known to produce incorrect PR-AUCs; please switch to \"careful_interpolation\" instead.\n",
      "WARNING:tensorflow:Trapezoidal rule is known to produce incorrect PR-AUCs; please switch to \"careful_interpolation\" instead.\n",
      "__________________________________________________________________________________________________\n",
      "Layer (type)                    Output Shape         Param #     Connected to                     \n",
      "==================================================================================================\n",
      "input_4 (InputLayer)            (None, 64, 64, 3)    0                                            \n",
      "__________________________________________________________________________________________________\n",
      "lambda_4 (Lambda)               (None, 64, 64, 3)    0           input_4[0][0]                    \n",
      "__________________________________________________________________________________________________\n",
      "conv2d_58 (Conv2D)              (None, 64, 64, 8)    224         lambda_4[0][0]                   \n",
      "__________________________________________________________________________________________________\n",
      "conv2d_59 (Conv2D)              (None, 64, 64, 8)    584         conv2d_58[0][0]                  \n",
      "__________________________________________________________________________________________________\n",
      "max_pooling2d_13 (MaxPooling2D) (None, 32, 32, 8)    0           conv2d_59[0][0]                  \n",
      "__________________________________________________________________________________________________\n",
      "conv2d_60 (Conv2D)              (None, 32, 32, 16)   1168        max_pooling2d_13[0][0]           \n",
      "__________________________________________________________________________________________________\n",
      "conv2d_61 (Conv2D)              (None, 32, 32, 16)   2320        conv2d_60[0][0]                  \n",
      "__________________________________________________________________________________________________\n",
      "max_pooling2d_14 (MaxPooling2D) (None, 16, 16, 16)   0           conv2d_61[0][0]                  \n",
      "__________________________________________________________________________________________________\n",
      "conv2d_62 (Conv2D)              (None, 16, 16, 32)   4640        max_pooling2d_14[0][0]           \n",
      "__________________________________________________________________________________________________\n",
      "conv2d_63 (Conv2D)              (None, 16, 16, 32)   9248        conv2d_62[0][0]                  \n",
      "__________________________________________________________________________________________________\n",
      "max_pooling2d_15 (MaxPooling2D) (None, 8, 8, 32)     0           conv2d_63[0][0]                  \n",
      "__________________________________________________________________________________________________\n",
      "conv2d_64 (Conv2D)              (None, 8, 8, 64)     18496       max_pooling2d_15[0][0]           \n",
      "__________________________________________________________________________________________________\n",
      "conv2d_65 (Conv2D)              (None, 8, 8, 64)     36928       conv2d_64[0][0]                  \n",
      "__________________________________________________________________________________________________\n",
      "max_pooling2d_16 (MaxPooling2D) (None, 4, 4, 64)     0           conv2d_65[0][0]                  \n",
      "__________________________________________________________________________________________________\n",
      "conv2d_66 (Conv2D)              (None, 4, 4, 128)    73856       max_pooling2d_16[0][0]           \n",
      "__________________________________________________________________________________________________\n",
      "conv2d_67 (Conv2D)              (None, 4, 4, 128)    147584      conv2d_66[0][0]                  \n",
      "__________________________________________________________________________________________________\n",
      "conv2d_transpose_13 (Conv2DTran (None, 8, 8, 64)     32832       conv2d_67[0][0]                  \n",
      "__________________________________________________________________________________________________\n",
      "concatenate_13 (Concatenate)    (None, 8, 8, 128)    0           conv2d_transpose_13[0][0]        \n",
      "                                                                 conv2d_65[0][0]                  \n",
      "__________________________________________________________________________________________________\n",
      "conv2d_68 (Conv2D)              (None, 8, 8, 64)     73792       concatenate_13[0][0]             \n",
      "__________________________________________________________________________________________________\n",
      "conv2d_69 (Conv2D)              (None, 8, 8, 64)     36928       conv2d_68[0][0]                  \n",
      "__________________________________________________________________________________________________\n",
      "conv2d_transpose_14 (Conv2DTran (None, 16, 16, 32)   8224        conv2d_69[0][0]                  \n",
      "__________________________________________________________________________________________________\n",
      "concatenate_14 (Concatenate)    (None, 16, 16, 64)   0           conv2d_transpose_14[0][0]        \n",
      "                                                                 conv2d_63[0][0]                  \n",
      "__________________________________________________________________________________________________\n",
      "conv2d_70 (Conv2D)              (None, 16, 16, 32)   18464       concatenate_14[0][0]             \n",
      "__________________________________________________________________________________________________\n",
      "conv2d_71 (Conv2D)              (None, 16, 16, 32)   9248        conv2d_70[0][0]                  \n",
      "__________________________________________________________________________________________________\n",
      "conv2d_transpose_15 (Conv2DTran (None, 32, 32, 16)   2064        conv2d_71[0][0]                  \n",
      "__________________________________________________________________________________________________\n",
      "concatenate_15 (Concatenate)    (None, 32, 32, 32)   0           conv2d_transpose_15[0][0]        \n",
      "                                                                 conv2d_61[0][0]                  \n",
      "__________________________________________________________________________________________________\n",
      "conv2d_72 (Conv2D)              (None, 32, 32, 16)   4624        concatenate_15[0][0]             \n",
      "__________________________________________________________________________________________________\n",
      "conv2d_73 (Conv2D)              (None, 32, 32, 16)   2320        conv2d_72[0][0]                  \n",
      "__________________________________________________________________________________________________\n",
      "conv2d_transpose_16 (Conv2DTran (None, 64, 64, 8)    520         conv2d_73[0][0]                  \n",
      "__________________________________________________________________________________________________\n",
      "concatenate_16 (Concatenate)    (None, 64, 64, 16)   0           conv2d_transpose_16[0][0]        \n",
      "                                                                 conv2d_59[0][0]                  \n",
      "__________________________________________________________________________________________________\n",
      "conv2d_74 (Conv2D)              (None, 64, 64, 8)    1160        concatenate_16[0][0]             \n",
      "__________________________________________________________________________________________________\n",
      "conv2d_75 (Conv2D)              (None, 64, 64, 8)    584         conv2d_74[0][0]                  \n",
      "__________________________________________________________________________________________________\n",
      "conv2d_76 (Conv2D)              (None, 64, 64, 1)    9           conv2d_75[0][0]                  \n",
      "==================================================================================================\n",
      "Total params: 485,817\n",
      "Trainable params: 485,817\n",
      "Non-trainable params: 0\n",
      "__________________________________________________________________________________________________\n"
     ]
    }
   ],
   "source": [
    "inputs = Input((IMG_HEIGHT, IMG_WIDTH, IMG_CHANNELS))\n",
    "s = Lambda(lambda x: x / 255) (inputs)\n",
    "\n",
    "c1 = Conv2D(8, (3, 3), activation='relu', padding='same') (s)\n",
    "c1 = Conv2D(8, (3, 3), activation='relu', padding='same') (c1)\n",
    "p1 = MaxPooling2D((2, 2)) (c1)\n",
    "\n",
    "c2 = Conv2D(16, (3, 3), activation='relu', padding='same') (p1)\n",
    "c2 = Conv2D(16, (3, 3), activation='relu', padding='same') (c2)\n",
    "p2 = MaxPooling2D((2, 2)) (c2)\n",
    "\n",
    "c3 = Conv2D(32, (3, 3), activation='relu', padding='same') (p2)\n",
    "c3 = Conv2D(32, (3, 3), activation='relu', padding='same') (c3)\n",
    "p3 = MaxPooling2D((2, 2)) (c3)\n",
    "\n",
    "c4 = Conv2D(64, (3, 3), activation='relu', padding='same') (p3)\n",
    "c4 = Conv2D(64, (3, 3), activation='relu', padding='same') (c4)\n",
    "p4 = MaxPooling2D(pool_size=(2, 2)) (c4)\n",
    "\n",
    "c5 = Conv2D(128, (3, 3), activation='relu', padding='same') (p4)\n",
    "c5 = Conv2D(128, (3, 3), activation='relu', padding='same') (c5)\n",
    "\n",
    "u6 = Conv2DTranspose(64, (2, 2), strides=(2, 2), padding='same') (c5)\n",
    "u6 = concatenate([u6, c4])\n",
    "c6 = Conv2D(64, (3, 3), activation='relu', padding='same') (u6)\n",
    "c6 = Conv2D(64, (3, 3), activation='relu', padding='same') (c6)\n",
    "\n",
    "u7 = Conv2DTranspose(32, (2, 2), strides=(2, 2), padding='same') (c6)\n",
    "u7 = concatenate([u7, c3])\n",
    "c7 = Conv2D(32, (3, 3), activation='relu', padding='same') (u7)\n",
    "c7 = Conv2D(32, (3, 3), activation='relu', padding='same') (c7)\n",
    "\n",
    "u8 = Conv2DTranspose(16, (2, 2), strides=(2, 2), padding='same') (c7)\n",
    "u8 = concatenate([u8, c2])\n",
    "c8 = Conv2D(16, (3, 3), activation='relu', padding='same') (u8)\n",
    "c8 = Conv2D(16, (3, 3), activation='relu', padding='same') (c8)\n",
    "\n",
    "u9 = Conv2DTranspose(8, (2, 2), strides=(2, 2), padding='same') (c8)\n",
    "u9 = concatenate([u9, c1], axis=3)\n",
    "c9 = Conv2D(8, (3, 3), activation='relu', padding='same') (u9)\n",
    "c9 = Conv2D(8, (3, 3), activation='relu', padding='same') (c9)\n",
    "\n",
    "outputs = Conv2D(1, (1, 1), activation='sigmoid') (c9)\n",
    "\n",
    "model = Model(inputs=[inputs], outputs=[outputs])\n",
    "sgd = optimizers.SGD(lr=0.01, decay=1e-6, momentum=0.9, nesterov=True)\n",
    "# precision = as_keras_metric(tf.metrics.precision)\n",
    "# recall = as_keras_metric(tf.metrics.recall)\n",
    "# model.compile(loss='mean_squared_error', optimizer=sgd)\n",
    "model.load_weights('model-dsbowl2018-2_lr_001_batch_64.h5')\n",
    "model.compile(optimizer=sgd, loss='binary_crossentropy', metrics=[auc_pr])\n",
    "\n",
    "# model.compile(optimizer=sgd, loss='binary_crossentropy', metrics=[keras_metrics.precision(), keras_metrics.recall()])\n",
    "model.summary()"
   ]
  },
  {
   "cell_type": "code",
   "execution_count": null,
   "metadata": {
    "scrolled": true
   },
   "outputs": [],
   "source": [
    "earlystopper = EarlyStopping(patience=30, verbose=1)\n",
    "if not os.path.exists('model_weights'):\n",
    "    os.makedirs('model_weights')\n",
    "checkpointer = ModelCheckpoint('model_weights/model-dsbowl2018-2.h5', verbose=1, save_best_only=True)\n",
    "results = model.fit(X_train, Y_train, validation_split=0.1, batch_size=512, epochs=50, \n",
    "                    callbacks=[checkpointer])"
   ]
  },
  {
   "cell_type": "code",
   "execution_count": null,
   "metadata": {},
   "outputs": [],
   "source": [
    "model = load_model('model-dsbowl2018-2.h5',\n",
    "                    custom_objects={'auc_pr': auc_pr})"
   ]
  },
  {
   "cell_type": "code",
   "execution_count": null,
   "metadata": {},
   "outputs": [],
   "source": []
  },
  {
   "cell_type": "code",
   "execution_count": null,
   "metadata": {},
   "outputs": [],
   "source": [
    "model = load_model('model_weights/model-dsbowl2018-2.h5',\n",
    "                    custom_objects={'auc_pr': auc_pr})\n",
    "# model = load_model('model_weights/model-dsbowl2018-1_PR.h5')\n",
    "preds_train = model.predict(X_train[:int(X_train.shape[0]*0.9)], verbose=1)\n",
    "preds_val = model.predict(X_train[int(X_train.shape[0]*0.9):], verbose=1)\n",
    "# preds_test = model.predict(X_test, verbose=1)\n",
    "\n",
    "# Threshold predictions\n",
    "preds_train_t = (preds_train > 0.5).astype(np.uint8)\n",
    "preds_val_t = (preds_val > 0.5).astype(np.uint8)\n",
    "# preds_test_t = (preds_test > 0.5).astype(np.uint8)\n",
    "\n",
    "# Create list of upsampled test masks\n",
    "# preds_test_upsampled = []\n",
    "# for i in range(len(preds_test)):\n",
    "#     preds_test_upsampled.append(resize(np.squeeze(preds_test[i]), \n",
    "#                                        (sizes_test[i][0], sizes_test[i][1]), \n",
    "#                                        mode='constant', preserve_range=True))"
   ]
  }
 ],
 "metadata": {
  "kernelspec": {
   "display_name": "Python [default]",
   "language": "python",
   "name": "python3"
  },
  "language_info": {
   "codemirror_mode": {
    "name": "ipython",
    "version": 3
   },
   "file_extension": ".py",
   "mimetype": "text/x-python",
   "name": "python",
   "nbconvert_exporter": "python",
   "pygments_lexer": "ipython3",
   "version": "3.6.6"
  }
 },
 "nbformat": 4,
 "nbformat_minor": 2
}
