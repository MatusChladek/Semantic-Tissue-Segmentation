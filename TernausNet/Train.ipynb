{
 "cells": [
  {
   "cell_type": "code",
   "execution_count": null,
   "metadata": {
    "ExecuteTime": {
     "end_time": "2018-07-29T11:57:16.862420Z",
     "start_time": "2018-07-29T11:57:15.910486Z"
    }
   },
   "outputs": [],
   "source": [
    "import os\n",
    "os.environ['CUDA_DEVICE_ORDER'] = 'PCI_BUS_ID'\n",
    "os.environ['CUDA_VISIBLE_DEVICES'] = '0'\n",
    " \n",
    "from os.path import join as pjoin\n",
    "import glob\n",
    "import numpy as np\n",
    "import pandas as pd\n",
    "from tqdm import tqdm_notebook as tqdm\n",
    "from importlib import reload\n",
    "import cv2\n",
    "import matplotlib as mpl\n",
    "mpl.rcParams['figure.figsize'] = (10, 10)\n",
    "from matplotlib import pyplot as plt\n",
    "%matplotlib inline\n",
    "\n",
    "from utils import *\n",
    "from dataset import *\n",
    "from train import *\n",
    "\n",
    "%load_ext autoreload\n",
    "%autoreload 2\n",
    " \n",
    "ROOT_DIR = os.getcwd()\n",
    "print(ROOT_DIR)\n",
    " \n",
    "DATA_DIR = 'data/covers'\n",
    "print(DATA_DIR)"
   ]
  },
  {
   "cell_type": "code",
   "execution_count": 3,
   "metadata": {
    "ExecuteTime": {
     "end_time": "2018-07-29T11:57:18.195081Z",
     "start_time": "2018-07-29T11:57:18.159885Z"
    }
   },
   "outputs": [],
   "source": [
    "import torch\n",
    "from torch import nn\n",
    "from unet_models import unet11\n",
    "from torch.nn import functional as F\n",
    "from torchvision.transforms import ToTensor, Normalize, Compose"
   ]
  },
  {
   "cell_type": "code",
   "execution_count": 4,
   "metadata": {
    "ExecuteTime": {
     "end_time": "2018-07-29T11:57:19.186468Z",
     "start_time": "2018-07-29T11:57:19.167335Z"
    }
   },
   "outputs": [],
   "source": [
    "from pathlib import Path\n",
    "from validation import validation_binary\n",
    "\n",
    "import torch\n",
    "from torch import nn\n",
    "from torch.optim import Adam\n",
    "from torch.utils.data import DataLoader\n",
    "import torch.backends.cudnn as cudnn\n",
    "import torch.backends.cudnn"
   ]
  },
  {
   "cell_type": "code",
   "execution_count": 5,
   "metadata": {
    "ExecuteTime": {
     "end_time": "2018-07-29T11:57:20.659935Z",
     "start_time": "2018-07-29T11:57:20.645134Z"
    }
   },
   "outputs": [],
   "source": [
    "# Get data\n",
    "Img_files = {}\n",
    "Mask_files = {}\n",
    "\n",
    "Img_files['all'] = sorted(glob.glob(pjoin(DATA_DIR, 'IMG*.png')))\n",
    "Mask_files['all'] = sorted(glob.glob(pjoin(DATA_DIR, 'MASK*.png')))\n",
    "\n",
    "train_ids = [580, 8, 4, 1, 39, 9, 12, 17, 2, 617, 568, 588, 159, 20, 13, 750, 3, 14, 22, 567, 10, 7, 21, 15, 11, 566,6]\n",
    "val_ids = [18, 749, 16, 19, 519, 379, 5, 248]\n",
    "\n",
    "Img_files['train'] = [file for file in Img_files['all'] if int(file[-8:-5]) in train_ids]\n",
    "Mask_files['train'] = [file for file in Mask_files['all'] if int(file[-8:-5]) in train_ids]\n",
    "\n",
    "Img_files['val'] = [file for file in Img_files['all'] if int(file[-8:-5]) in val_ids]\n",
    "Mask_files['val'] = [file for file in Mask_files['all'] if int(file[-8:-5]) in val_ids]\n",
    "\n",
    "TRAIN_SIZE = len(Img_files['train'])\n",
    "VAL_SIZE = len(Img_files['val'])"
   ]
  },
  {
   "cell_type": "code",
   "execution_count": 6,
   "metadata": {
    "ExecuteTime": {
     "end_time": "2018-07-29T11:57:21.002658Z",
     "start_time": "2018-07-29T11:57:20.971145Z"
    }
   },
   "outputs": [
    {
     "name": "stdout",
     "output_type": "stream",
     "text": [
      "Dataset 'train' loaded\n",
      "\t27 images\n",
      "\t27 masks\n",
      "Dataset 'val' loaded\n",
      "\t8 images\n",
      "\t8 masks\n"
     ]
    }
   ],
   "source": [
    "train_dataset = TissuesDataset(Img_files['train'], 'train', mask_files=Mask_files['train'], augment=True)\n",
    "val_dataset = TissuesDataset(Img_files['val'], 'val', mask_files=Mask_files['val'], augment=False)"
   ]
  },
  {
   "cell_type": "markdown",
   "metadata": {},
   "source": [
    "### Check"
   ]
  },
  {
   "cell_type": "code",
   "execution_count": 7,
   "metadata": {
    "ExecuteTime": {
     "end_time": "2018-07-29T11:57:22.278863Z",
     "start_time": "2018-07-29T11:57:22.251666Z"
    },
    "scrolled": true
   },
   "outputs": [],
   "source": [
    "# def to_np(img):\n",
    "#     try:\n",
    "#         return img.numpy().transpose(1,2,0)\n",
    "#     except:\n",
    "#         return img.numpy()\n",
    "\n",
    "# for (img, mask) in train_dataset:\n",
    "#     print(type(img), img.shape)\n",
    "#     imshow(to_np(train_dataset.transforms.unnormalize(img)))\n",
    "#     plt.show()\n",
    "#     print(type(mask), mask.shape)\n",
    "#     print(mask.unique())\n",
    "#     maskshow(to_np(mask))\n",
    "#     plt.show()"
   ]
  },
  {
   "cell_type": "code",
   "execution_count": 8,
   "metadata": {
    "ExecuteTime": {
     "end_time": "2018-07-29T11:57:22.448182Z",
     "start_time": "2018-07-29T11:57:22.432953Z"
    }
   },
   "outputs": [],
   "source": [
    "class Config():\n",
    "    \n",
    "    ROOT = 'runs'\n",
    "    NUM_CLASSES = 1\n",
    "\n",
    "    GPU = [0]\n",
    "    BATCH_SIZE = 16\n",
    "    NUM_WORKERS = 10\n",
    "    LR = 2e-4\n",
    "    NUM_EPOCHS = 100\n",
    "    #LEAKY_RELU_COEF = 0.2\n",
    "    \n",
    "    JACCARD_WEIGHT = 0.5\n",
    "    \n",
    "    #WEIGHT_INIT_MEAN = 0\n",
    "    #WEIGHT_INIT_STD = 0.02\n",
    "    \n",
    "    #ADAM_BETAS = (0.5, 0.999)\n",
    "\n",
    "\n",
    "config = Config()"
   ]
  },
  {
   "cell_type": "code",
   "execution_count": 9,
   "metadata": {
    "ExecuteTime": {
     "end_time": "2018-07-29T11:57:23.155789Z",
     "start_time": "2018-07-29T11:57:23.127358Z"
    }
   },
   "outputs": [],
   "source": [
    "train_dataloader = DataLoader(train_dataset, config.BATCH_SIZE, shuffle=True,\n",
    "                              num_workers=config.NUM_WORKERS)\n",
    "val_dataloader = DataLoader(val_dataset, config.BATCH_SIZE, shuffle=False,\n",
    "                              num_workers=config.NUM_WORKERS)"
   ]
  },
  {
   "cell_type": "markdown",
   "metadata": {
    "ExecuteTime": {
     "end_time": "2018-07-28T19:16:50.003384Z",
     "start_time": "2018-07-28T19:16:49.983046Z"
    }
   },
   "source": [
    "### Train"
   ]
  },
  {
   "cell_type": "code",
   "execution_count": 10,
   "metadata": {
    "ExecuteTime": {
     "end_time": "2018-07-29T11:57:24.728319Z",
     "start_time": "2018-07-29T11:57:23.817924Z"
    }
   },
   "outputs": [],
   "source": [
    "device = torch.device(\"cuda:0\" if torch.cuda.is_available() else \"cpu\")"
   ]
  },
  {
   "cell_type": "code",
   "execution_count": 11,
   "metadata": {
    "ExecuteTime": {
     "end_time": "2018-07-29T11:57:30.157219Z",
     "start_time": "2018-07-29T11:57:24.729842Z"
    }
   },
   "outputs": [],
   "source": [
    "model = unet11(pretrained=True)\n",
    "\n",
    "if torch.cuda.is_available():\n",
    "    if config.GPU:\n",
    "        device_ids = config.GPU\n",
    "    else:\n",
    "        device_ids = None\n",
    "    model = nn.DataParallel(model, device_ids=device_ids).cuda()\n",
    "\n",
    "loss = LossBinary(jaccard_weight=config.JACCARD_WEIGHT)"
   ]
  },
  {
   "cell_type": "code",
   "execution_count": 12,
   "metadata": {
    "ExecuteTime": {
     "end_time": "2018-07-29T11:57:30.169515Z",
     "start_time": "2018-07-29T11:57:30.158668Z"
    }
   },
   "outputs": [],
   "source": [
    "cudnn.benchmark = True"
   ]
  },
  {
   "cell_type": "code",
   "execution_count": 13,
   "metadata": {
    "ExecuteTime": {
     "end_time": "2018-07-29T11:57:30.180181Z",
     "start_time": "2018-07-29T11:57:30.170748Z"
    }
   },
   "outputs": [],
   "source": [
    "valid = validation_binary"
   ]
  },
  {
   "cell_type": "code",
   "execution_count": 14,
   "metadata": {
    "ExecuteTime": {
     "end_time": "2018-07-29T11:57:32.077468Z",
     "start_time": "2018-07-29T11:57:32.051880Z"
    }
   },
   "outputs": [],
   "source": [
    "root = Path(config.ROOT)\n",
    "root.mkdir(exist_ok=True, parents=True)"
   ]
  },
  {
   "cell_type": "code",
   "execution_count": 15,
   "metadata": {
    "ExecuteTime": {
     "end_time": "2018-07-29T11:57:39.200765Z",
     "start_time": "2018-07-29T11:57:39.100806Z"
    },
    "scrolled": true
   },
   "outputs": [
    {
     "name": "stdout",
     "output_type": "stream",
     "text": [
      "Restored model, epoch 101, step 200\n"
     ]
    }
   ],
   "source": [
    "train(\n",
    "    init_optimizer=lambda lr: Adam(model.parameters(), lr=lr),\n",
    "    config=config,\n",
    "    model=model,\n",
    "    criterion=loss,\n",
    "    train_loader=train_dataloader,\n",
    "    valid_loader=val_dataloader,\n",
    "    validation=valid,\n",
    "    fold=0,\n",
    "    num_classes=config.NUM_CLASSES\n",
    ")"
   ]
  },
  {
   "cell_type": "markdown",
   "metadata": {},
   "source": [
    "### Inference"
   ]
  },
  {
   "cell_type": "code",
   "execution_count": 18,
   "metadata": {
    "ExecuteTime": {
     "end_time": "2018-07-29T11:57:47.270799Z",
     "start_time": "2018-07-29T11:57:47.229151Z"
    }
   },
   "outputs": [
    {
     "name": "stdout",
     "output_type": "stream",
     "text": [
      "Dataset 'val' loaded\n",
      "\t8 images\n",
      "\t8 masks\n",
      "torch.Size([1, 3, 256, 256]) torch.Size([1, 1, 256, 256])\n"
     ]
    }
   ],
   "source": [
    "val_dataset = TissuesDataset(Img_files['val'], 'val', mask_files=Mask_files['val'], augment=False)\n",
    "val_dataloader = DataLoader(val_dataset, config.BATCH_SIZE, shuffle=False,\n",
    "                              num_workers=config.NUM_WORKERS)\n",
    "inputs, targets = val_dataset[0]\n",
    "inputs, targets = inputs.unsqueeze_(0), targets.unsqueeze_(0)\n",
    "with torch.no_grad():\n",
    "    targets = cuda(targets)\n",
    "print(inputs.shape, targets.shape)"
   ]
  },
  {
   "cell_type": "code",
   "execution_count": 24,
   "metadata": {
    "ExecuteTime": {
     "end_time": "2018-07-29T11:58:11.342253Z",
     "start_time": "2018-07-29T11:58:11.314181Z"
    }
   },
   "outputs": [],
   "source": [
    "targets_np = targets.cpu().detach().numpy()[0,0]\n",
    "print(targets_np.shape)\n",
    "\n",
    "targets_np = targets.cpu().detach().numpy()[0,0]\n",
    "print(targets_np.shape)\n",
    "maskshow(targets_np)\n",
    "np.unique(targets_np)"
   ]
  },
  {
   "cell_type": "code",
   "execution_count": 23,
   "metadata": {
    "ExecuteTime": {
     "end_time": "2018-07-29T11:58:08.282986Z",
     "start_time": "2018-07-29T11:58:08.263417Z"
    }
   },
   "outputs": [],
   "source": [
    "outputs = model(inputs)\n",
    "outputs_np = F.sigmoid(outputs).cpu().detach().numpy()[0,0]\n",
    "maskshow(outputs_np)"
   ]
  },
  {
   "cell_type": "code",
   "execution_count": 21,
   "metadata": {
    "ExecuteTime": {
     "end_time": "2018-07-29T11:57:51.752428Z",
     "start_time": "2018-07-29T11:57:51.738585Z"
    }
   },
   "outputs": [
    {
     "data": {
      "text/plain": [
       "0.09903369098901749"
      ]
     },
     "execution_count": 21,
     "metadata": {},
     "output_type": "execute_result"
    }
   ],
   "source": [
    "float(loss(outputs, targets).cpu().detach().numpy())"
   ]
  },
  {
   "cell_type": "markdown",
   "metadata": {},
   "source": [
    "### Evaluate"
   ]
  },
  {
   "cell_type": "markdown",
   "metadata": {},
   "source": [
    "#### Val dataset"
   ]
  },
  {
   "cell_type": "code",
   "execution_count": 53,
   "metadata": {
    "ExecuteTime": {
     "end_time": "2018-07-30T07:53:26.711465Z",
     "start_time": "2018-07-30T07:53:26.699107Z"
    }
   },
   "outputs": [],
   "source": [
    "def IoU(mask_gt, mask_pred):\n",
    "    return (mask_gt * mask_pred).sum() / (np.maximum(mask_gt, mask_pred)).sum() * 100 \n",
    "\n",
    "def Precision(mask_gt, mask_pred):\n",
    "    return (mask_gt * mask_pred).sum() / mask_pred.sum() * 100 \n",
    "\n",
    "def Recall(mask1, mask_pred):\n",
    "    return (mask_gt * mask_pred).sum() / mask_gt.sum() * 100 "
   ]
  },
  {
   "cell_type": "code",
   "execution_count": null,
   "metadata": {
    "ExecuteTime": {
     "end_time": "2018-07-30T08:24:03.378615Z",
     "start_time": "2018-07-30T08:24:00.397603Z"
    },
    "scrolled": false
   },
   "outputs": [],
   "source": [
    "mpl.rcParams['figure.figsize'] = (10, 10)\n",
    "ious = []\n",
    "precisions = []\n",
    "recalls = []\n",
    "for img_file, mask_file in zip(Img_files['val'], Mask_files['val']):\n",
    "    img, pads = load_image(img_file, pad=True)\n",
    "    mask_gt = imread(mask_file, True)\n",
    "\n",
    "    with torch.no_grad():\n",
    "        input_img = torch.unsqueeze(img_transform(img).to(device), dim=0)\n",
    "\n",
    "    with torch.no_grad():\n",
    "        mask = F.sigmoid(model(input_img))\n",
    "\n",
    "    mask_array = mask.data[0].cpu().numpy()[0]\n",
    "    plt.subplot(1,3,1)\n",
    "    imshow(img)\n",
    "    plt.subplot(1,3,2)\n",
    "    imshow(mask_array)\n",
    "    \n",
    "    mask_array = crop_image(mask_array, pads)\n",
    "    image = crop_image(img, pads)\n",
    "    mask_pred = (mask_array > 0.5).astype(np.uint8)\n",
    "    plt.subplot(1,3,3)\n",
    "    imshow(mask_overlay(image, mask_pred))\n",
    "    plt.show()\n",
    "    \n",
    "    iou = IoU(mask_gt, mask_pred)\n",
    "    ious.append(iou)\n",
    "    print('IoU: {:.2f}%'.format(iou))\n",
    "    precision = Precision(mask_gt, mask_pred)\n",
    "    precisions.append(precision)\n",
    "    print('Precision: {:.2f}%'.format(precision))\n",
    "    recall = Recall(mask_gt, mask_pred)\n",
    "    recalls.append(recall)\n",
    "    print('Recall: {:.2f}%'.format(recall))"
   ]
  },
  {
   "cell_type": "code",
   "execution_count": 73,
   "metadata": {
    "ExecuteTime": {
     "end_time": "2018-07-30T07:57:16.530243Z",
     "start_time": "2018-07-30T07:57:16.516384Z"
    }
   },
   "outputs": [
    {
     "name": "stdout",
     "output_type": "stream",
     "text": [
      "\tMean IoU: 0.788\n",
      "\tMean precision: 0.869\n",
      "\tMean recall: 0.908\n"
     ]
    }
   ],
   "source": [
    "Ious = np.array(ious) / 100\n",
    "Precisions = np.array(precisions) / 100\n",
    "Recalls = np.array(recalls) / 100\n",
    "print('\\tMean IoU: {:.3f}\\n\\tMean precision: {:.3f}\\n\\tMean recall: {:.3f}'.format(Ious.mean(), Precisions.mean(), Recalls.mean()))"
   ]
  },
  {
   "cell_type": "code",
   "execution_count": 80,
   "metadata": {
    "ExecuteTime": {
     "end_time": "2018-07-30T07:58:38.317094Z",
     "start_time": "2018-07-30T07:58:37.800932Z"
    }
   },
   "outputs": [
    {
     "data": {
      "image/png": "[encoded data removed]",
      "text/plain": [
       "<matplotlib.figure.Figure at 0x7f21639f2390>"
      ]
     },
     "metadata": {},
     "output_type": "display_data"
    },
    {
     "data": {
      "image/png": "[encoded data removed]",
      "text/plain": [
       "<matplotlib.figure.Figure at 0x7f2165824dd8>"
      ]
     },
     "metadata": {},
     "output_type": "display_data"
    },
    {
     "data": {
      "image/png": "[encoded data removed]",
      "text/plain": [
       "<matplotlib.figure.Figure at 0x7f216583c080>"
      ]
     },
     "metadata": {},
     "output_type": "display_data"
    }
   ],
   "source": [
    "plt.style.use('ggplot')\n",
    "mpl.rcParams[\"figure.figsize\"] = (8, 2)\n",
    "plot_ratio(Ious, 'IoU on val dataset', ['IoU', ''])\n",
    "print('\\tMean IoU: {:.3f}'.format(Ious.mean(), Precisions.mean(), Recalls.mean()))\n",
    "plt.show()\n",
    "plot_ratio(Precisions, 'Precision on val dataset', ['Precision', ''])\n",
    "print('\\tMean precision: {:.3f}'.format(Precisions.mean(), Recalls.mean()))\n",
    "plt.show()\n",
    "plot_ratio(Recalls, 'Recall on val dataset', ['Recall', ''])\n",
    "print('\\tMean recall: {:.3f}'.format(Recalls.mean()))\n",
    "plt.show()"
   ]
  },
  {
   "cell_type": "markdown",
   "metadata": {},
   "source": [
    "#### Train dataset (just for understanding)"
   ]
  },
  {
   "cell_type": "code",
   "execution_count": null,
   "metadata": {
    "ExecuteTime": {
     "end_time": "2018-07-30T08:22:44.581027Z",
     "start_time": "2018-07-30T08:22:34.217323Z"
    },
    "scrolled": true
   },
   "outputs": [],
   "source": [
    "mpl.rcParams['figure.figsize'] = (10, 10)\n",
    "ious = []\n",
    "for img_file, mask_file in zip(Img_files['train'], Mask_files['train']):\n",
    "    img, pads = load_image(img_file, pad=True)\n",
    "    mask_gt = imread(mask_file, True)\n",
    "\n",
    "    with torch.no_grad():\n",
    "        input_img = torch.unsqueeze(img_transform(img).to(device), dim=0)\n",
    "\n",
    "    with torch.no_grad():\n",
    "        mask = F.sigmoid(model(input_img))\n",
    "\n",
    "    mask_array = mask.data[0].cpu().numpy()[0]\n",
    "    plt.subplot(1,3,1)\n",
    "    imshow(img)\n",
    "    plt.subplot(1,3,2)\n",
    "    imshow(mask_array)\n",
    "    \n",
    "    mask_array = crop_image(mask_array, pads)\n",
    "    image = crop_image(img, pads)\n",
    "    mask_pred = (mask_array > 0.5).astype(np.uint8)\n",
    "    iou = IoU(mask_gt, mask_pred)\n",
    "    ious.append(iou)\n",
    "    print('IoU: {}'.format(iou))\n",
    "    plt.subplot(1,3,3)\n",
    "    imshow(mask_overlay(image, mask_pred))\n",
    "\n",
    "    plt.show()"
   ]
  },
  {
   "cell_type": "code",
   "execution_count": 48,
   "metadata": {
    "ExecuteTime": {
     "end_time": "2018-07-29T12:17:41.192556Z",
     "start_time": "2018-07-29T12:17:41.172011Z"
    }
   },
   "outputs": [
    {
     "data": {
      "text/plain": [
       "0.8719942794237954"
      ]
     },
     "execution_count": 48,
     "metadata": {},
     "output_type": "execute_result"
    }
   ],
   "source": [
    "ious = np.array(ious) / 100\n",
    "ious.mean()"
   ]
  },
  {
   "cell_type": "code",
   "execution_count": 49,
   "metadata": {
    "ExecuteTime": {
     "end_time": "2018-07-29T12:17:42.208185Z",
     "start_time": "2018-07-29T12:17:41.963232Z"
    }
   },
   "outputs": [
    {
     "data": {
      "image/png": "[encoded data removed]",
      "text/plain": [
       "<matplotlib.figure.Figure at 0x7f21622f6320>"
      ]
     },
     "metadata": {},
     "output_type": "display_data"
    }
   ],
   "source": [
    "plt.style.use('ggplot')\n",
    "mpl.rcParams[\"figure.figsize\"] = (8, 2)\n",
    "plot_ratio(ious, 'Evaluating on val dataset', ['IoU', ''])"
   ]
  },
  {
   "cell_type": "code",
   "execution_count": null,
   "metadata": {},
   "outputs": [],
   "source": []
  }
 ],
 "metadata": {
  "kernelspec": {
   "display_name": "Python [default]",
   "language": "python",
   "name": "python3"
  },
  "language_info": {
   "codemirror_mode": {
    "name": "ipython",
    "version": 3
   },
   "file_extension": ".py",
   "mimetype": "text/x-python",
   "name": "python",
   "nbconvert_exporter": "python",
   "pygments_lexer": "ipython3",
   "version": "3.6.6"
  }
 },
 "nbformat": 4,
 "nbformat_minor": 2
}
